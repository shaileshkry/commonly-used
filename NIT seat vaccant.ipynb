{
 "cells": [
  {
   "cell_type": "code",
   "execution_count": 32,
   "id": "ba79848e-5428-4a0d-8d09-d6abd93bcb3c",
   "metadata": {},
   "outputs": [],
   "source": [
    "import pandas as pd\n",
    "import matplotlib.pyplot as plt"
   ]
  },
  {
   "cell_type": "code",
   "execution_count": null,
   "id": "8504ced5-24cf-45ed-8f67-d9a8839742fb",
   "metadata": {},
   "outputs": [],
   "source": []
  },
  {
   "cell_type": "code",
   "execution_count": 33,
   "id": "adfb5c73-f1e9-42a2-87da-bd5ebf84b7e3",
   "metadata": {},
   "outputs": [],
   "source": [
    "df=pd.read_excel(\"seat availability.xlsx\")"
   ]
  },
  {
   "cell_type": "code",
   "execution_count": 34,
   "id": "55a44b04-96f6-4a21-bd37-34c427b82710",
   "metadata": {},
   "outputs": [],
   "source": [
    "#close_rank=60000"
   ]
  },
  {
   "cell_type": "code",
   "execution_count": null,
   "id": "9637237f-7dea-40f9-b7ee-7e4749c3c073",
   "metadata": {},
   "outputs": [],
   "source": []
  },
  {
   "cell_type": "code",
   "execution_count": 35,
   "id": "00bd31d7-6857-4784-90ec-4899a7a0f881",
   "metadata": {},
   "outputs": [
    {
     "data": {
      "text/html": [
       "<div>\n",
       "<style scoped>\n",
       "    .dataframe tbody tr th:only-of-type {\n",
       "        vertical-align: middle;\n",
       "    }\n",
       "\n",
       "    .dataframe tbody tr th {\n",
       "        vertical-align: top;\n",
       "    }\n",
       "\n",
       "    .dataframe thead th {\n",
       "        text-align: right;\n",
       "    }\n",
       "</style>\n",
       "<table border=\"1\" class=\"dataframe\">\n",
       "  <thead>\n",
       "    <tr style=\"text-align: right;\">\n",
       "      <th></th>\n",
       "      <th>Sr No</th>\n",
       "      <th>Institute\\nCode</th>\n",
       "      <th>Institute Name</th>\n",
       "      <th>Program\\nCode</th>\n",
       "      <th>Program Name</th>\n",
       "      <th>Quota</th>\n",
       "      <th>Category</th>\n",
       "      <th>Seat Pool</th>\n",
       "      <th>Vacancy</th>\n",
       "    </tr>\n",
       "  </thead>\n",
       "  <tbody>\n",
       "    <tr>\n",
       "      <th>0</th>\n",
       "      <td>1</td>\n",
       "      <td>201</td>\n",
       "      <td>Dr. B R Ambedkar National\\nInstitute of Techno...</td>\n",
       "      <td>4104</td>\n",
       "      <td>Bio Technology (4 Years,\\nBachelor of Technology)</td>\n",
       "      <td>HS</td>\n",
       "      <td>OBC-NCL</td>\n",
       "      <td>Gender-Neutral</td>\n",
       "      <td>2</td>\n",
       "    </tr>\n",
       "    <tr>\n",
       "      <th>1</th>\n",
       "      <td>2</td>\n",
       "      <td>201</td>\n",
       "      <td>Dr. B R Ambedkar National\\nInstitute of Techno...</td>\n",
       "      <td>4104</td>\n",
       "      <td>Bio Technology (4 Years,\\nBachelor of Technology)</td>\n",
       "      <td>HS</td>\n",
       "      <td>GEN-EWS</td>\n",
       "      <td>Gender-Neutral</td>\n",
       "      <td>2</td>\n",
       "    </tr>\n",
       "    <tr>\n",
       "      <th>2</th>\n",
       "      <td>3</td>\n",
       "      <td>201</td>\n",
       "      <td>Dr. B R Ambedkar National\\nInstitute of Techno...</td>\n",
       "      <td>4104</td>\n",
       "      <td>Bio Technology (4 Years,\\nBachelor of Technology)</td>\n",
       "      <td>HS</td>\n",
       "      <td>OPEN</td>\n",
       "      <td>Gender-Neutral</td>\n",
       "      <td>4</td>\n",
       "    </tr>\n",
       "    <tr>\n",
       "      <th>3</th>\n",
       "      <td>4</td>\n",
       "      <td>201</td>\n",
       "      <td>Dr. B R Ambedkar National\\nInstitute of Techno...</td>\n",
       "      <td>4104</td>\n",
       "      <td>Bio Technology (4 Years,\\nBachelor of Technology)</td>\n",
       "      <td>HS</td>\n",
       "      <td>OPEN</td>\n",
       "      <td>Female-only (including\\nSupernumerary)</td>\n",
       "      <td>1</td>\n",
       "    </tr>\n",
       "    <tr>\n",
       "      <th>4</th>\n",
       "      <td>5</td>\n",
       "      <td>201</td>\n",
       "      <td>Dr. B R Ambedkar National\\nInstitute of Techno...</td>\n",
       "      <td>4104</td>\n",
       "      <td>Bio Technology (4 Years,\\nBachelor of Technology)</td>\n",
       "      <td>HS</td>\n",
       "      <td>OPEN (PwD)</td>\n",
       "      <td>Female-only (including\\nSupernumerary)</td>\n",
       "      <td>1</td>\n",
       "    </tr>\n",
       "  </tbody>\n",
       "</table>\n",
       "</div>"
      ],
      "text/plain": [
       "   Sr No  Institute\\nCode                                     Institute Name  \\\n",
       "0      1              201  Dr. B R Ambedkar National\\nInstitute of Techno...   \n",
       "1      2              201  Dr. B R Ambedkar National\\nInstitute of Techno...   \n",
       "2      3              201  Dr. B R Ambedkar National\\nInstitute of Techno...   \n",
       "3      4              201  Dr. B R Ambedkar National\\nInstitute of Techno...   \n",
       "4      5              201  Dr. B R Ambedkar National\\nInstitute of Techno...   \n",
       "\n",
       "  Program\\nCode                                       Program Name Quota  \\\n",
       "0          4104  Bio Technology (4 Years,\\nBachelor of Technology)    HS   \n",
       "1          4104  Bio Technology (4 Years,\\nBachelor of Technology)    HS   \n",
       "2          4104  Bio Technology (4 Years,\\nBachelor of Technology)    HS   \n",
       "3          4104  Bio Technology (4 Years,\\nBachelor of Technology)    HS   \n",
       "4          4104  Bio Technology (4 Years,\\nBachelor of Technology)    HS   \n",
       "\n",
       "     Category                               Seat Pool  Vacancy  \n",
       "0     OBC-NCL                          Gender-Neutral        2  \n",
       "1     GEN-EWS                          Gender-Neutral        2  \n",
       "2        OPEN                          Gender-Neutral        4  \n",
       "3        OPEN  Female-only (including\\nSupernumerary)        1  \n",
       "4  OPEN (PwD)  Female-only (including\\nSupernumerary)        1  "
      ]
     },
     "execution_count": 35,
     "metadata": {},
     "output_type": "execute_result"
    }
   ],
   "source": [
    "df.head()"
   ]
  },
  {
   "cell_type": "code",
   "execution_count": 36,
   "id": "e143fad4-0e09-4baa-bb1f-c60a2b546bd6",
   "metadata": {},
   "outputs": [
    {
     "data": {
      "text/plain": [
       "['Sr No',\n",
       " 'Institute\\nCode',\n",
       " 'Institute Name',\n",
       " 'Program\\nCode',\n",
       " 'Program Name',\n",
       " 'Quota',\n",
       " 'Category',\n",
       " 'Seat Pool',\n",
       " 'Vacancy']"
      ]
     },
     "execution_count": 36,
     "metadata": {},
     "output_type": "execute_result"
    }
   ],
   "source": [
    "df.columns.tolist()"
   ]
  },
  {
   "cell_type": "code",
   "execution_count": 37,
   "id": "26af25a9-f7a4-4dbb-bdfa-952bde2cd682",
   "metadata": {},
   "outputs": [],
   "source": [
    "# Specify the columns to drop\n",
    "#columns_to_drop = ['Unnamed: 7','Unnamed: 8','Unnamed: 9']\n",
    "\n",
    "# Drop the specified columns\n",
    "#df = df.drop(columns=columns_to_drop)"
   ]
  },
  {
   "cell_type": "code",
   "execution_count": 38,
   "id": "f758ebb2-6705-4221-8c5b-6ca0c09c06b3",
   "metadata": {},
   "outputs": [
    {
     "data": {
      "text/plain": [
       "['Sr No',\n",
       " 'Institute\\nCode',\n",
       " 'Institute Name',\n",
       " 'Program\\nCode',\n",
       " 'Program Name',\n",
       " 'Quota',\n",
       " 'Category',\n",
       " 'Seat Pool',\n",
       " 'Vacancy']"
      ]
     },
     "execution_count": 38,
     "metadata": {},
     "output_type": "execute_result"
    }
   ],
   "source": [
    "df.columns.tolist()"
   ]
  },
  {
   "cell_type": "code",
   "execution_count": 39,
   "id": "7737367c-61ab-4274-8ab3-458bab1d69aa",
   "metadata": {},
   "outputs": [
    {
     "data": {
      "text/plain": [
       "4948"
      ]
     },
     "execution_count": 39,
     "metadata": {},
     "output_type": "execute_result"
    }
   ],
   "source": [
    "len(df)"
   ]
  },
  {
   "cell_type": "code",
   "execution_count": 40,
   "id": "c6d6e433-5fc5-4039-b439-94121f14f3ae",
   "metadata": {},
   "outputs": [
    {
     "data": {
      "text/plain": [
       "array(['HS', 'OS', 'GO', 'JK', 'LA', 'AI'], dtype=object)"
      ]
     },
     "execution_count": 40,
     "metadata": {},
     "output_type": "execute_result"
    }
   ],
   "source": [
    "df['Quota'].unique()"
   ]
  },
  {
   "cell_type": "code",
   "execution_count": 41,
   "id": "72c3de9b-249c-43ac-b783-30e9ed1d9702",
   "metadata": {},
   "outputs": [
    {
     "data": {
      "text/html": [
       "<div>\n",
       "<style scoped>\n",
       "    .dataframe tbody tr th:only-of-type {\n",
       "        vertical-align: middle;\n",
       "    }\n",
       "\n",
       "    .dataframe tbody tr th {\n",
       "        vertical-align: top;\n",
       "    }\n",
       "\n",
       "    .dataframe thead th {\n",
       "        text-align: right;\n",
       "    }\n",
       "</style>\n",
       "<table border=\"1\" class=\"dataframe\">\n",
       "  <thead>\n",
       "    <tr style=\"text-align: right;\">\n",
       "      <th></th>\n",
       "      <th>Sr No</th>\n",
       "      <th>Institute\\nCode</th>\n",
       "      <th>Institute Name</th>\n",
       "      <th>Program\\nCode</th>\n",
       "      <th>Program Name</th>\n",
       "      <th>Quota</th>\n",
       "      <th>Category</th>\n",
       "      <th>Seat Pool</th>\n",
       "      <th>Vacancy</th>\n",
       "    </tr>\n",
       "  </thead>\n",
       "  <tbody>\n",
       "    <tr>\n",
       "      <th>0</th>\n",
       "      <td>1</td>\n",
       "      <td>201</td>\n",
       "      <td>Dr. B R Ambedkar National\\nInstitute of Techno...</td>\n",
       "      <td>4104</td>\n",
       "      <td>Bio Technology (4 Years,\\nBachelor of Technology)</td>\n",
       "      <td>HS</td>\n",
       "      <td>OBC-NCL</td>\n",
       "      <td>Gender-Neutral</td>\n",
       "      <td>2</td>\n",
       "    </tr>\n",
       "    <tr>\n",
       "      <th>1</th>\n",
       "      <td>2</td>\n",
       "      <td>201</td>\n",
       "      <td>Dr. B R Ambedkar National\\nInstitute of Techno...</td>\n",
       "      <td>4104</td>\n",
       "      <td>Bio Technology (4 Years,\\nBachelor of Technology)</td>\n",
       "      <td>HS</td>\n",
       "      <td>GEN-EWS</td>\n",
       "      <td>Gender-Neutral</td>\n",
       "      <td>2</td>\n",
       "    </tr>\n",
       "    <tr>\n",
       "      <th>2</th>\n",
       "      <td>3</td>\n",
       "      <td>201</td>\n",
       "      <td>Dr. B R Ambedkar National\\nInstitute of Techno...</td>\n",
       "      <td>4104</td>\n",
       "      <td>Bio Technology (4 Years,\\nBachelor of Technology)</td>\n",
       "      <td>HS</td>\n",
       "      <td>OPEN</td>\n",
       "      <td>Gender-Neutral</td>\n",
       "      <td>4</td>\n",
       "    </tr>\n",
       "    <tr>\n",
       "      <th>3</th>\n",
       "      <td>4</td>\n",
       "      <td>201</td>\n",
       "      <td>Dr. B R Ambedkar National\\nInstitute of Techno...</td>\n",
       "      <td>4104</td>\n",
       "      <td>Bio Technology (4 Years,\\nBachelor of Technology)</td>\n",
       "      <td>HS</td>\n",
       "      <td>OPEN</td>\n",
       "      <td>Female-only (including\\nSupernumerary)</td>\n",
       "      <td>1</td>\n",
       "    </tr>\n",
       "    <tr>\n",
       "      <th>4</th>\n",
       "      <td>5</td>\n",
       "      <td>201</td>\n",
       "      <td>Dr. B R Ambedkar National\\nInstitute of Techno...</td>\n",
       "      <td>4104</td>\n",
       "      <td>Bio Technology (4 Years,\\nBachelor of Technology)</td>\n",
       "      <td>HS</td>\n",
       "      <td>OPEN (PwD)</td>\n",
       "      <td>Female-only (including\\nSupernumerary)</td>\n",
       "      <td>1</td>\n",
       "    </tr>\n",
       "    <tr>\n",
       "      <th>...</th>\n",
       "      <td>...</td>\n",
       "      <td>...</td>\n",
       "      <td>...</td>\n",
       "      <td>...</td>\n",
       "      <td>...</td>\n",
       "      <td>...</td>\n",
       "      <td>...</td>\n",
       "      <td>...</td>\n",
       "      <td>...</td>\n",
       "    </tr>\n",
       "    <tr>\n",
       "      <th>4854</th>\n",
       "      <td>4855</td>\n",
       "      <td>441</td>\n",
       "      <td>Birla Institute of Technology,\\nPatna Off-Campus</td>\n",
       "      <td>4144</td>\n",
       "      <td>Electrical and Electronics\\nEngineering (4 Yea...</td>\n",
       "      <td>HS</td>\n",
       "      <td>GEN-EWS</td>\n",
       "      <td>Gender-Neutral</td>\n",
       "      <td>2</td>\n",
       "    </tr>\n",
       "    <tr>\n",
       "      <th>4855</th>\n",
       "      <td>4856</td>\n",
       "      <td>441</td>\n",
       "      <td>Birla Institute of Technology,\\nPatna Off-Campus</td>\n",
       "      <td>4144</td>\n",
       "      <td>Electrical and Electronics\\nEngineering (4 Yea...</td>\n",
       "      <td>HS</td>\n",
       "      <td>OPEN</td>\n",
       "      <td>Gender-Neutral</td>\n",
       "      <td>6</td>\n",
       "    </tr>\n",
       "    <tr>\n",
       "      <th>4856</th>\n",
       "      <td>4857</td>\n",
       "      <td>441</td>\n",
       "      <td>Birla Institute of Technology,\\nPatna Off-Campus</td>\n",
       "      <td>4144</td>\n",
       "      <td>Electrical and Electronics\\nEngineering (4 Yea...</td>\n",
       "      <td>HS</td>\n",
       "      <td>OPEN</td>\n",
       "      <td>Female-only (including\\nSupernumerary)</td>\n",
       "      <td>2</td>\n",
       "    </tr>\n",
       "    <tr>\n",
       "      <th>4857</th>\n",
       "      <td>4858</td>\n",
       "      <td>441</td>\n",
       "      <td>Birla Institute of Technology,\\nPatna Off-Campus</td>\n",
       "      <td>4144</td>\n",
       "      <td>Electrical and Electronics\\nEngineering (4 Yea...</td>\n",
       "      <td>HS</td>\n",
       "      <td>OPEN (PwD)</td>\n",
       "      <td>Gender-Neutral</td>\n",
       "      <td>1</td>\n",
       "    </tr>\n",
       "    <tr>\n",
       "      <th>4858</th>\n",
       "      <td>4859</td>\n",
       "      <td>441</td>\n",
       "      <td>Birla Institute of Technology,\\nPatna Off-Campus</td>\n",
       "      <td>4144</td>\n",
       "      <td>Electrical and Electronics\\nEngineering (4 Yea...</td>\n",
       "      <td>HS</td>\n",
       "      <td>SC</td>\n",
       "      <td>Gender-Neutral</td>\n",
       "      <td>6</td>\n",
       "    </tr>\n",
       "  </tbody>\n",
       "</table>\n",
       "<p>1642 rows × 9 columns</p>\n",
       "</div>"
      ],
      "text/plain": [
       "      Sr No  Institute\\nCode  \\\n",
       "0         1              201   \n",
       "1         2              201   \n",
       "2         3              201   \n",
       "3         4              201   \n",
       "4         5              201   \n",
       "...     ...              ...   \n",
       "4854   4855              441   \n",
       "4855   4856              441   \n",
       "4856   4857              441   \n",
       "4857   4858              441   \n",
       "4858   4859              441   \n",
       "\n",
       "                                         Institute Name Program\\nCode  \\\n",
       "0     Dr. B R Ambedkar National\\nInstitute of Techno...          4104   \n",
       "1     Dr. B R Ambedkar National\\nInstitute of Techno...          4104   \n",
       "2     Dr. B R Ambedkar National\\nInstitute of Techno...          4104   \n",
       "3     Dr. B R Ambedkar National\\nInstitute of Techno...          4104   \n",
       "4     Dr. B R Ambedkar National\\nInstitute of Techno...          4104   \n",
       "...                                                 ...           ...   \n",
       "4854   Birla Institute of Technology,\\nPatna Off-Campus          4144   \n",
       "4855   Birla Institute of Technology,\\nPatna Off-Campus          4144   \n",
       "4856   Birla Institute of Technology,\\nPatna Off-Campus          4144   \n",
       "4857   Birla Institute of Technology,\\nPatna Off-Campus          4144   \n",
       "4858   Birla Institute of Technology,\\nPatna Off-Campus          4144   \n",
       "\n",
       "                                           Program Name Quota    Category  \\\n",
       "0     Bio Technology (4 Years,\\nBachelor of Technology)    HS     OBC-NCL   \n",
       "1     Bio Technology (4 Years,\\nBachelor of Technology)    HS     GEN-EWS   \n",
       "2     Bio Technology (4 Years,\\nBachelor of Technology)    HS        OPEN   \n",
       "3     Bio Technology (4 Years,\\nBachelor of Technology)    HS        OPEN   \n",
       "4     Bio Technology (4 Years,\\nBachelor of Technology)    HS  OPEN (PwD)   \n",
       "...                                                 ...   ...         ...   \n",
       "4854  Electrical and Electronics\\nEngineering (4 Yea...    HS     GEN-EWS   \n",
       "4855  Electrical and Electronics\\nEngineering (4 Yea...    HS        OPEN   \n",
       "4856  Electrical and Electronics\\nEngineering (4 Yea...    HS        OPEN   \n",
       "4857  Electrical and Electronics\\nEngineering (4 Yea...    HS  OPEN (PwD)   \n",
       "4858  Electrical and Electronics\\nEngineering (4 Yea...    HS          SC   \n",
       "\n",
       "                                   Seat Pool  Vacancy  \n",
       "0                             Gender-Neutral        2  \n",
       "1                             Gender-Neutral        2  \n",
       "2                             Gender-Neutral        4  \n",
       "3     Female-only (including\\nSupernumerary)        1  \n",
       "4     Female-only (including\\nSupernumerary)        1  \n",
       "...                                      ...      ...  \n",
       "4854                          Gender-Neutral        2  \n",
       "4855                          Gender-Neutral        6  \n",
       "4856  Female-only (including\\nSupernumerary)        2  \n",
       "4857                          Gender-Neutral        1  \n",
       "4858                          Gender-Neutral        6  \n",
       "\n",
       "[1642 rows x 9 columns]"
      ]
     },
     "execution_count": 41,
     "metadata": {},
     "output_type": "execute_result"
    }
   ],
   "source": [
    "df[df['Quota']=='HS']"
   ]
  },
  {
   "cell_type": "code",
   "execution_count": 42,
   "id": "6bc7eeeb-0829-4b4e-9a37-1c27edd23814",
   "metadata": {},
   "outputs": [],
   "source": [
    " df_os=df[df['Quota']== 'OS']"
   ]
  },
  {
   "cell_type": "code",
   "execution_count": 43,
   "id": "931a71ad-0301-4fa9-9b18-2b25012f74d1",
   "metadata": {},
   "outputs": [
    {
     "data": {
      "text/plain": [
       "array(['OBC-NCL', 'GEN-EWS', 'OPEN', 'OPEN (PwD)', 'SC', 'ST',\n",
       "       'OBC-NCL(PwD)', 'SC (PwD)', 'GEN-EWS(PwD)', 'ST (PwD)'],\n",
       "      dtype=object)"
      ]
     },
     "execution_count": 43,
     "metadata": {},
     "output_type": "execute_result"
    }
   ],
   "source": [
    "df['Category'].unique()"
   ]
  },
  {
   "cell_type": "code",
   "execution_count": 44,
   "id": "d48d4a8c-cfed-4543-a701-fb8c134af9be",
   "metadata": {},
   "outputs": [],
   "source": [
    " df_obc=df[df['Category']== 'OBC-NCL']"
   ]
  },
  {
   "cell_type": "code",
   "execution_count": 45,
   "id": "61931889-8726-4f2b-baa5-d66acbb0840a",
   "metadata": {},
   "outputs": [
    {
     "data": {
      "text/plain": [
       "824"
      ]
     },
     "execution_count": 45,
     "metadata": {},
     "output_type": "execute_result"
    }
   ],
   "source": [
    "len(df_obc)"
   ]
  },
  {
   "cell_type": "code",
   "execution_count": 46,
   "id": "ff28963f-902d-461e-b31f-fdd7a05420d8",
   "metadata": {},
   "outputs": [],
   "source": [
    "#for other state"
   ]
  },
  {
   "cell_type": "code",
   "execution_count": 47,
   "id": "9cad4e38-86d7-4a90-8e1c-41071c30ada1",
   "metadata": {},
   "outputs": [],
   "source": [
    "df_obc_gender_neutral=df_obc[df_obc['Seat Pool']== 'Gender-Neutral']"
   ]
  },
  {
   "cell_type": "code",
   "execution_count": 48,
   "id": "56b28ddf-8b14-4d40-88a6-83061797f1b6",
   "metadata": {},
   "outputs": [
    {
     "data": {
      "text/plain": [
       "586"
      ]
     },
     "execution_count": 48,
     "metadata": {},
     "output_type": "execute_result"
    }
   ],
   "source": [
    "len(df_obc_gender_neutral)"
   ]
  },
  {
   "cell_type": "code",
   "execution_count": 49,
   "id": "5073b02a-678a-4353-bde3-745e27d3b550",
   "metadata": {},
   "outputs": [],
   "source": [
    "df_os_obc=df_obc[df_obc['Quota']== 'OS']"
   ]
  },
  {
   "cell_type": "code",
   "execution_count": 50,
   "id": "5567d2d5-a3f2-43ac-a31f-ce0a9b8f3ff0",
   "metadata": {},
   "outputs": [
    {
     "data": {
      "text/plain": [
       "300"
      ]
     },
     "execution_count": 50,
     "metadata": {},
     "output_type": "execute_result"
    }
   ],
   "source": [
    "len(df_os_obc)"
   ]
  },
  {
   "cell_type": "code",
   "execution_count": null,
   "id": "e721d549-0882-4ca0-834c-29dee4d9920a",
   "metadata": {},
   "outputs": [],
   "source": []
  },
  {
   "cell_type": "code",
   "execution_count": 51,
   "id": "ad7b1ea3-3fb5-45ef-a4c0-9144b4dab99b",
   "metadata": {},
   "outputs": [],
   "source": [
    "#df_os_obc"
   ]
  },
  {
   "cell_type": "code",
   "execution_count": 52,
   "id": "afd7a7a7-ecd3-4531-864d-4dfda4f08343",
   "metadata": {},
   "outputs": [
    {
     "data": {
      "text/plain": [
       "array(['Gender-Neutral', 'Female-only (including\\nSupernumerary)'],\n",
       "      dtype=object)"
      ]
     },
     "execution_count": 52,
     "metadata": {},
     "output_type": "execute_result"
    }
   ],
   "source": [
    "df['Seat Pool'].unique()"
   ]
  },
  {
   "cell_type": "code",
   "execution_count": 53,
   "id": "7e9c87f3-138a-4020-93ad-337c7d750161",
   "metadata": {},
   "outputs": [],
   "source": [
    "df_os_obc_gender_neutral=df_os_obc[df_os_obc['Seat Pool']== 'Gender-Neutral']"
   ]
  },
  {
   "cell_type": "code",
   "execution_count": 54,
   "id": "639ad5cb-f152-4e68-8f5e-83f6c7a84413",
   "metadata": {},
   "outputs": [
    {
     "data": {
      "text/plain": [
       "188"
      ]
     },
     "execution_count": 54,
     "metadata": {},
     "output_type": "execute_result"
    }
   ],
   "source": [
    "len(df_os_obc_gender_neutral)"
   ]
  },
  {
   "cell_type": "code",
   "execution_count": 55,
   "id": "4c074963-7825-4c83-9b77-71a188793cd5",
   "metadata": {},
   "outputs": [],
   "source": [
    "#For home state"
   ]
  },
  {
   "cell_type": "code",
   "execution_count": 56,
   "id": "fd378a48-d6cd-4490-a8f4-d2ded28831e1",
   "metadata": {},
   "outputs": [],
   "source": [
    "df_obc_gender_neutral_os=df_obc_gender_neutral[df_obc_gender_neutral['Quota']== 'OS']"
   ]
  },
  {
   "cell_type": "code",
   "execution_count": 57,
   "id": "48955f30-b39a-4708-ba90-ac46f953e85d",
   "metadata": {},
   "outputs": [
    {
     "data": {
      "text/plain": [
       "188"
      ]
     },
     "execution_count": 57,
     "metadata": {},
     "output_type": "execute_result"
    }
   ],
   "source": [
    "len(df_obc_gender_neutral_os)"
   ]
  },
  {
   "cell_type": "code",
   "execution_count": 58,
   "id": "2ca3e5d9-23fe-4a15-8e39-0e9b09fa1260",
   "metadata": {},
   "outputs": [],
   "source": [
    "df_obc_gender_neutral_os.to_excel('df_obc_gender_neutral_os.xlsx')"
   ]
  },
  {
   "cell_type": "code",
   "execution_count": 59,
   "id": "86e573f1-574a-452c-99c0-8915d2115ab3",
   "metadata": {},
   "outputs": [
    {
     "data": {
      "text/plain": [
       "array(['Dr. B R Ambedkar National\\nInstitute of Technology,\\nJalandhar',\n",
       "       'Malaviya National Institute of\\nTechnology Jaipur',\n",
       "       'Maulana Azad National\\nInstitute of Technology Bhopal',\n",
       "       'Motilal Nehru National\\nInstitute of Technology\\nAllahabad',\n",
       "       'National Institute of\\nTechnology Agartala',\n",
       "       'National Institute of\\nTechnology Calicut',\n",
       "       'National Institute of\\nTechnology Delhi',\n",
       "       'National Institute of\\nTechnology Durgapur',\n",
       "       'National Institute of\\nTechnology Goa',\n",
       "       'National Institute of\\nTechnology Hamirpur',\n",
       "       'National Institute of\\nTechnology Karnataka,\\nSurathkal',\n",
       "       'National Institute of\\nTechnology Meghalaya',\n",
       "       'National Institute of\\nTechnology Nagaland',\n",
       "       'National Institute of\\nTechnology Patna',\n",
       "       'National Institute of\\nTechnology Puducherry',\n",
       "       'National Institute of\\nTechnology Raipur',\n",
       "       'National Institute of\\nTechnology Sikkim',\n",
       "       'National Institute of\\nTechnology Arunachal Pradesh',\n",
       "       'National Institute of\\nTechnology, Jamshedpur',\n",
       "       'National Institute of\\nTechnology, Kurukshetra',\n",
       "       'National Institute of\\nTechnology, Manipur',\n",
       "       'National Institute of\\nTechnology, Mizoram',\n",
       "       'National Institute of\\nTechnology, Rourkela',\n",
       "       'National Institute of\\nTechnology, Silchar',\n",
       "       'National Institute of\\nTechnology, Srinagar',\n",
       "       'National Institute of\\nTechnology, Tiruchirappalli',\n",
       "       'National Institute of\\nTechnology, Uttarakhand',\n",
       "       'National Institute of\\nTechnology, Warangal',\n",
       "       'Sardar Vallabhbhai National\\nInstitute of Technology, Surat',\n",
       "       'Visvesvaraya National Institute\\nof Technology, Nagpur',\n",
       "       'National Institute of\\nTechnology, Andhra Pradesh',\n",
       "       'Indian Institute of Engineering\\nScience and Technology,\\nShibpur',\n",
       "       'Atal Bihari Vajpayee Indian\\nInstitute of Information\\nTechnology & Management\\nGwalior',\n",
       "       'Indian Institute of Information\\nTechnology (IIIT)Kota,\\nRajasthan',\n",
       "       'Indian Institute of Information\\nTechnology Guwahati',\n",
       "       'Indian Institute of Information\\nTechnology(IIIT) Kalyani, West\\nBengal',\n",
       "       'Indian Institute of Information\\nTechnology(IIIT) Kilohrad,\\nSonepat, Haryana',\n",
       "       'Indian Institute of Information\\nTechnology(IIIT) Una, Himachal\\nPradesh',\n",
       "       'Indian Institute of Information\\nTechnology (IIIT), Sri City,\\nChittoor',\n",
       "       'Indian Institute of Information\\nTechnology(IIIT), Vadodara,\\nGujrat',\n",
       "       'Indian Institute of Information\\nTechnology, Allahabad',\n",
       "       'Indian Institute of Information\\nTechnology, Design &\\nManufacturing, Kancheepuram',\n",
       "       'Pt. Dwarka Prasad Mishra\\nIndian Institute of Information\\nTechnology, Design &\\nManufacture Jabalpur',\n",
       "       'INDIAN INSTITUTE OF\\nINFORMATION TECHNOLOGY\\nSENAPATI MANIPUR',\n",
       "       'Indian Institute of Information\\nTechnology Tiruchirappalli',\n",
       "       'Indian Institute of Information\\nTechnology Lucknow',\n",
       "       'Indian Institute of Information\\nTechnology(IIIT) Dharwad',\n",
       "       'Indian Institute of Information\\nTechnology Design &\\nManufacturing Kurnool,\\nAndhra Pradesh',\n",
       "       'Indian Institute of Information\\nTechnology(IIIT) Kottayam',\n",
       "       'Indian Institute of Information\\nTechnology (IIIT) Ranchi',\n",
       "       'Indian Institute of Information\\nTechnology (IIIT) Nagpur',\n",
       "       'Indian Institute of Information\\nTechnology (IIIT) Pune',\n",
       "       'Indian Institute of Information\\nTechnology Bhagalpur',\n",
       "       'Indian Institute of Information\\nTechnology Bhopal',\n",
       "       'Indian Institute of Information\\nTechnology Surat',\n",
       "       'Indian Institute of Information\\nTechnology, Agartala',\n",
       "       'Indian institute of information\\ntechnology, Raichur, Karnataka',\n",
       "       'Indian Institute of Information\\nTechnology, Vadodara\\nInternational Campus Diu\\n(IIITVICD)',\n",
       "       'Assam University, Silchar',\n",
       "       'Birla Institute of Technology,\\nMesra, Ranchi',\n",
       "       'Gurukula Kangri\\nVishwavidyalaya, Haridwar',\n",
       "       'Indian Institute of Carpet\\nTechnology, Bhadohi',\n",
       "       'Institute of Infrastructure,\\nTechnology, Research and\\nManagement-Ahmedabad',\n",
       "       'School of Studies of\\nEngineering and Technology,\\nGuru Ghasidas\\nVishwavidyalaya, Bilaspur',\n",
       "       'J.K. Institute of Applied Physics\\n& Technology, Department of\\nElectronics & Communication,\\nUniversity of Allahabad-\\nAllahabad',\n",
       "       'National Institute of Electronics\\nand Information Technology,\\nAurangabad (Maharashtra)',\n",
       "       'National Institute of Advanced\\nManufacturing Technology,\\nRanchi',\n",
       "       'Sant Longowal Institute of\\nEngineering and Technology',\n",
       "       'Mizoram University, Aizawl',\n",
       "       'School of Engineering, Tezpur\\nUniversity, Napaam, Tezpur',\n",
       "       'School of Planning &\\nArchitecture, Bhopal',\n",
       "       'School of Planning &\\nArchitecture, New Delhi',\n",
       "       'School of Planning &\\nArchitecture: Vijayawada',\n",
       "       'Shri Mata Vaishno Devi\\nUniversity, Katra, Jammu &\\nKashmir',\n",
       "       'International Institute of\\nInformation Technology, Naya\\nRaipur',\n",
       "       'University of Hyderabad',\n",
       "       'Punjab Engineering College,\\nChandigarh',\n",
       "       'Jawaharlal Nehru University,\\nDelhi',\n",
       "       'International Institute of\\nInformation Technology,\\nBhubaneswar',\n",
       "       'Central institute of Technology\\nKokrajar, Assam',\n",
       "       'Puducherry Technological\\nUniversity, Puducherry',\n",
       "       'Ghani Khan Choudhary\\nInstitute of Engineering and\\nTechnology, Malda, West\\nBengal',\n",
       "       'Central University of Rajasthan,\\nRajasthan',\n",
       "       'National Institute of Food\\nTechnology Entrepreneurship\\nand Management, Kundli',\n",
       "       'National Institute of Food\\nTechnology Entrepreneurship\\nand Management, Thanjavur',\n",
       "       'North Eastern Regional\\nInstitute of Science and\\nTechnology, Nirjuli-791109\\n(Itanagar),Arunachal Pradesh',\n",
       "       'Indian Institute of Handloom\\nTechnology(IIHT), Varanasi',\n",
       "       'Chhattisgarh Swami\\nVivekanada Technical\\nUniversity, Bhilai (CSVTU Bhilai)',\n",
       "       'Institute of Chemical\\nTechnology, Mumbai: Indian\\nOil Odisha Campus,\\nBhubaneswar',\n",
       "       'North-Eastern Hill University,\\nShillong',\n",
       "       'Central University of Jammu',\n",
       "       'Institute of Engineering and\\nTechnology, Dr. H. S. Gour\\nUniversity. Sagar (A Central\\nUniversity)',\n",
       "       'Central University of Haryana',\n",
       "       'Birla Institute of Technology,\\nDeoghar Off-Campus',\n",
       "       'Birla Institute of Technology,\\nPatna Off-Campus',\n",
       "       'Indian Institute of Handloom\\nTechnology, Salem',\n",
       "       'Gati Shakti Vishwavidyalaya,\\nVadodara', 'CU Jharkhand'],\n",
       "      dtype=object)"
      ]
     },
     "execution_count": 59,
     "metadata": {},
     "output_type": "execute_result"
    }
   ],
   "source": [
    "df['Institute Name'].unique()"
   ]
  },
  {
   "cell_type": "code",
   "execution_count": 60,
   "id": "46a5465a-028d-4fc5-813c-6903328c75bc",
   "metadata": {},
   "outputs": [],
   "source": [
    "df_nit_patna=df[df['Institute Name']=='National Institute of\\nTechnology Patna']"
   ]
  },
  {
   "cell_type": "code",
   "execution_count": 61,
   "id": "283c1614-0dba-43da-bee7-308b7fcd2575",
   "metadata": {},
   "outputs": [
    {
     "data": {
      "text/plain": [
       "83"
      ]
     },
     "execution_count": 61,
     "metadata": {},
     "output_type": "execute_result"
    }
   ],
   "source": [
    "len(df_nit_patna)"
   ]
  },
  {
   "cell_type": "code",
   "execution_count": 62,
   "id": "f673ecce-5f68-4c31-814a-28d2dab11e10",
   "metadata": {},
   "outputs": [],
   "source": [
    "df_obc_gender_neutral_hs=df_obc_gender_neutral[df_obc_gender_neutral['Quota']== 'HS']"
   ]
  },
  {
   "cell_type": "code",
   "execution_count": 63,
   "id": "78b38c29-5399-4ed0-8cb4-fa567cb7b6e9",
   "metadata": {},
   "outputs": [],
   "source": [
    "df_obc_gender_neutral_hs_nit_patna=df_obc_gender_neutral_hs[df_obc_gender_neutral_hs['Institute Name']=='National Institute of\\nTechnology Patna']"
   ]
  },
  {
   "cell_type": "code",
   "execution_count": 64,
   "id": "d8da7244-3212-47d9-89e5-f1a7224b414e",
   "metadata": {},
   "outputs": [
    {
     "data": {
      "text/plain": [
       "3"
      ]
     },
     "execution_count": 64,
     "metadata": {},
     "output_type": "execute_result"
    }
   ],
   "source": [
    "len(df_obc_gender_neutral_hs_nit_patna)"
   ]
  },
  {
   "cell_type": "code",
   "execution_count": 65,
   "id": "38d8efe9-c41a-4a8d-805a-d2b624f3b3ae",
   "metadata": {},
   "outputs": [],
   "source": [
    "df_obc_gender_neutral_hs_nit_patna.to_excel('df_obc_gender_neutral_hs_nit_patna.xlsx')"
   ]
  }
 ],
 "metadata": {
  "kernelspec": {
   "display_name": "Python 3 (ipykernel)",
   "language": "python",
   "name": "python3"
  },
  "language_info": {
   "codemirror_mode": {
    "name": "ipython",
    "version": 3
   },
   "file_extension": ".py",
   "mimetype": "text/x-python",
   "name": "python",
   "nbconvert_exporter": "python",
   "pygments_lexer": "ipython3",
   "version": "3.12.4"
  }
 },
 "nbformat": 4,
 "nbformat_minor": 5
}
